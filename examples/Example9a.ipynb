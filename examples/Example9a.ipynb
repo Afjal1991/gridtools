{
 "cells": [
  {
   "cell_type": "code",
   "execution_count": null,
   "id": "0ab9b8cd-f858-4352-aa69-3e98a09451e3",
   "metadata": {},
   "outputs": [],
   "source": [
    "# Load a ROMS grid\n",
    "import os, sys\n",
    "from gridtools.gridutils import GridUtils\n",
    "from gridtools.grids import roms\n",
    "from pyproj import Proj\n",
    "import cartopy.crs as crs\n",
    "import xarray as xr\n",
    "\n",
    "# Set a place to write files\n",
    "os.environ[\"PYROMS_GRIDID_FILE\"] = \"/import/AKWATERS/jrcermakiii/configs/Arctic6/roms/gridid.txt\"\n",
    "wrkDir = '/import/AKWATERS/jrcermakiii/configs/zOutput'\n",
    "inputDir = os.path.join(wrkDir, 'INPUT')\n",
    "\n",
    "grd = GridUtils()\n",
    "\n",
    "romsObj = roms.ROMS()\n",
    "romsGrd = romsObj.get_ROMS_grid('ARCTIC6')"
   ]
  },
  {
   "cell_type": "code",
   "execution_count": null,
   "id": "148cdfdb-54a9-4411-a9b8-7d4982ac1d48",
   "metadata": {},
   "outputs": [],
   "source": [
    "print(dir(romsGrd))"
   ]
  },
  {
   "cell_type": "code",
   "execution_count": null,
   "id": "278d56a7-63c3-4702-858f-ffbac469432c",
   "metadata": {},
   "outputs": [],
   "source": [
    "print(dir(romsGrd.hgrid))\n"
   ]
  },
  {
   "cell_type": "code",
   "execution_count": null,
   "id": "d8237889-3a08-4d31-9a19-8e9a0ee2d451",
   "metadata": {},
   "outputs": [],
   "source": [
    "print(romsGrd.hgrid.lat_rho.shape, romsGrd.hgrid.mask.shape)"
   ]
  },
  {
   "cell_type": "code",
   "execution_count": null,
   "id": "30c16ef8-c254-4458-b8bb-10aded5b20d4",
   "metadata": {},
   "outputs": [],
   "source": [
    "ds = xr.Dataset()\n",
    "ds['lat'] = (('ny', 'nx'), romsGrd.hgrid.lat_rho)\n",
    "ds['lon'] = (('ny', 'nx'), romsGrd.hgrid.lon_rho)\n",
    "ds['mask'] = (('ny', 'nx'), romsGrd.hgrid.mask)\n",
    "\n",
    "# Enable 2D mapping of coordinates\n",
    "ds = ds.set_coords(['lat', 'lon'])"
   ]
  },
  {
   "cell_type": "code",
   "execution_count": null,
   "id": "f7546260-8069-457f-840f-f9823b72f91a",
   "metadata": {},
   "outputs": [],
   "source": [
    "import hvplot.xarray #version 0.6.0\n",
    "import holoviews as hv\n",
    "import geoviews as gv #version 1.8.1\n",
    "gv.extension('bokeh')\n",
    "\n",
    "clickedValues = []\n",
    "\n",
    "def plot(x, y):\n",
    "    if x is not None:\n",
    "        da_sel = da.sel(lon=x, lat=y, method=\"nearest\")\n",
    "        # The print statement does not show anything with the click events\n",
    "        clickedValues.append(dict(lat=da_sel[\"lat\"].item(), lon=da_sel[\"lon\"].item()))\n",
    "        da.loc[dict(lat=da_sel[\"lat\"].item(), lon=da_sel[\"lon\"].item())] = 0\n",
    "\n",
    "    # This has a side effect of dynamically changing the colorbar and the\n",
    "    # rendered image.\n",
    "    return da.hvplot.quadmesh(x='lon', y='lat')\n",
    "\n",
    "#ds = xr.tutorial.open_dataset(\"air_temperature\").isel(time=0)\n",
    "da = ds[\"mask\"]\n",
    "\n",
    "#print(da)\n",
    "\n",
    "tap_stream = hv.streams.Tap()\n",
    "#dmap = gv.DynamicMap(plot, streams=[tap_stream])\n",
    "#dmap"
   ]
  },
  {
   "cell_type": "code",
   "execution_count": null,
   "id": "40706fed-2dc4-4d81-b7c2-1cd069b6d543",
   "metadata": {},
   "outputs": [],
   "source": [
    "print(clickedValues)"
   ]
  },
  {
   "cell_type": "code",
   "execution_count": null,
   "id": "d036fb28-b916-4571-aa6d-5670b23ce023",
   "metadata": {},
   "outputs": [],
   "source": [
    "da"
   ]
  },
  {
   "cell_type": "code",
   "execution_count": null,
   "id": "47fde96f-dbfe-4ea0-9b4b-009c187ad1c8",
   "metadata": {},
   "outputs": [],
   "source": []
  }
 ],
 "metadata": {
  "kernelspec": {
   "display_name": "Python 3",
   "language": "python",
   "name": "python3"
  },
  "language_info": {
   "codemirror_mode": {
    "name": "ipython",
    "version": 3
   },
   "file_extension": ".py",
   "mimetype": "text/x-python",
   "name": "python",
   "nbconvert_exporter": "python",
   "pygments_lexer": "ipython3",
   "version": "3.7.10"
  }
 },
 "nbformat": 4,
 "nbformat_minor": 5
}
