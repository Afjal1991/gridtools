{
 "cells": [
  {
   "cell_type": "code",
   "execution_count": null,
   "id": "0ab9b8cd-f858-4352-aa69-3e98a09451e3",
   "metadata": {},
   "outputs": [],
   "source": [
    "# Load a ROMS grid\n",
    "import os, sys\n",
    "from gridtools.gridutils import GridUtils\n",
    "from gridtools.grids import roms\n",
    "from gridtools.app import maskEditor\n",
    "\n",
    "import cartopy.crs as ccrs\n",
    "import xarray as xr\n",
    "\n",
    "# Set a place to write files\n",
    "os.environ[\"ROMS_GRIDID_FILE\"] = \"/import/AKWATERS/jrcermakiii/configs/ROMS/gridid.txt\"\n",
    "wrkDir = '/import/AKWATERS/jrcermakiii/configs/zOutput'\n",
    "inputDir = os.path.join(wrkDir, 'INPUT')\n",
    "\n",
    "grd = GridUtils()"
   ]
  },
  {
   "cell_type": "code",
   "execution_count": null,
   "id": "795d6457-3465-421d-8e31-e0709f0c75f3",
   "metadata": {},
   "outputs": [],
   "source": [
    "grd.openGrid(None, gridType='ROMS', gridid='ARCTIC6')\n",
    "grd.readGrid()"
   ]
  },
  {
   "cell_type": "code",
   "execution_count": null,
   "id": "e2438c73-f6a9-4a8e-a8a6-edb705009c6f",
   "metadata": {},
   "outputs": [],
   "source": [
    "# Set a map projection\n",
    "map_crs = ccrs.Orthographic(-160, 90)\n",
    "\n",
    "# Create the mask editor\n",
    "appObj = maskEditor(crs=map_crs, ds=grd.grid['mask'])\n",
    "app = appObj.createMaskEditorApp()\n",
    "\n",
    "# Start the mask editor\n",
    "display(app)"
   ]
  },
  {
   "cell_type": "code",
   "execution_count": null,
   "id": "f523616c-9929-4294-8812-d9c47dfdcc62",
   "metadata": {},
   "outputs": [],
   "source": [
    "# EXAMPLE IS INCOMPLETE\n",
    "\n",
    "# When done editing, uncomment the next blocks to save the new\n",
    "# mask and apply it to the model grid.  We do not have a way to\n",
    "# save ROMS grids from gridtools as of yet."
   ]
  }
 ],
 "metadata": {
  "kernelspec": {
   "display_name": "Python 3",
   "language": "python",
   "name": "python3"
  },
  "language_info": {
   "codemirror_mode": {
    "name": "ipython",
    "version": 3
   },
   "file_extension": ".py",
   "mimetype": "text/x-python",
   "name": "python",
   "nbconvert_exporter": "python",
   "pygments_lexer": "ipython3",
   "version": "3.7.10"
  }
 },
 "nbformat": 4,
 "nbformat_minor": 5
}
