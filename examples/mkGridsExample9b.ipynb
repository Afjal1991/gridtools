{
 "cells": [
  {
   "cell_type": "code",
   "execution_count": null,
   "id": "0ab9b8cd-f858-4352-aa69-3e98a09451e3",
   "metadata": {},
   "outputs": [],
   "source": [
    "# Load a ROMS grid\n",
    "import os\n",
    "from gridtools.grids import roms\n",
    "import cartopy.crs as ccrs\n",
    "import xarray as xr\n",
    "\n",
    "# Enable pylab\n",
    "%pylab\n",
    "\n",
    "# Gridutils setup - this is what we really should be doing\n",
    "#wrkDir = '/import/AKWATERS/jrcermakiii/configs/zOutput'\n",
    "#inputDir = os.path.join(wrkDir, 'INPUT')\n",
    "#grd = GridUtils()\n",
    "\n"
   ]
  },
  {
   "cell_type": "code",
   "execution_count": null,
   "id": "126a7ce6-2097-426c-9abf-c4379089ee24",
   "metadata": {},
   "outputs": [],
   "source": [
    "# Define a map projection\n",
    "map = ccrs.Stereographic(central_latitude=90.0, central_longitude=160.0)"
   ]
  },
  {
   "cell_type": "code",
   "execution_count": null,
   "id": "5cba99f7-43c4-49c2-84ec-48527b338b28",
   "metadata": {},
   "outputs": [],
   "source": [
    "# Load a ROMS grid\n",
    "\n",
    "# Use the gridid.txt file\n",
    "os.environ[\"PYROMS_GRIDID_FILE\"] = \"/import/AKWATERS/jrcermakiii/configs/Arctic6/roms/gridid.txt\"\n",
    "\n",
    "romsObj = roms.ROMS()\n",
    "romsGrd = romsObj.get_ROMS_grid('ARCTIC6')"
   ]
  },
  {
   "cell_type": "code",
   "execution_count": null,
   "id": "995e4deb-c0e5-44fd-86a4-45c38aaa6429",
   "metadata": {},
   "outputs": [],
   "source": [
    "# Start the pylab editor\n",
    "plotObj = romsObj.edit_mask_mesh(romsGrd.hgrid, proj=map)"
   ]
  },
  {
   "cell_type": "code",
   "execution_count": null,
   "id": "f9f1e4a9-0401-4896-8213-9b82ce9f54b5",
   "metadata": {},
   "outputs": [],
   "source": [
    "# When finished editing, uncomment and run this cell\n",
    "# romsObj.write_ROMS_grid(romsGrd, filename='grid_py.nc')"
   ]
  },
  {
   "cell_type": "code",
   "execution_count": null,
   "id": "e2438c73-f6a9-4a8e-a8a6-edb705009c6f",
   "metadata": {},
   "outputs": [],
   "source": []
  }
 ],
 "metadata": {
  "kernelspec": {
   "display_name": "Python 3",
   "language": "python",
   "name": "python3"
  },
  "language_info": {
   "codemirror_mode": {
    "name": "ipython",
    "version": 3
   },
   "file_extension": ".py",
   "mimetype": "text/x-python",
   "name": "python",
   "nbconvert_exporter": "python",
   "pygments_lexer": "ipython3",
   "version": "3.7.10"
  }
 },
 "nbformat": 4,
 "nbformat_minor": 5
}
