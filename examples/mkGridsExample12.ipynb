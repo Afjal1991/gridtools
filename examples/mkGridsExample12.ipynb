{
 "cells": [
  {
   "cell_type": "code",
   "execution_count": 1,
   "id": "9b16579e-353e-43bc-9bc5-256c613511ff",
   "metadata": {},
   "outputs": [],
   "source": [
    "# Example 12:\n",
    "#\n",
    "# This example creates two simple grids in cartesian and lat/lon space and\n",
    "# demonstrates the use of the extendGrid() routine."
   ]
  },
  {
   "cell_type": "code",
   "execution_count": 2,
   "id": "c3c6e2d5-d15f-4060-86c1-fd4c2a339960",
   "metadata": {},
   "outputs": [],
   "source": [
    "# Create a polar grid in cartesian space"
   ]
  },
  {
   "cell_type": "code",
   "execution_count": 3,
   "id": "5e7b2710-3ee6-42a8-b03b-cfa00ff79a2d",
   "metadata": {},
   "outputs": [],
   "source": [
    "# Create a polar grid in lat/lon space"
   ]
  },
  {
   "cell_type": "code",
   "execution_count": null,
   "id": "e9b9b370-c9e7-49f6-857c-187d65e65950",
   "metadata": {},
   "outputs": [],
   "source": []
  }
 ],
 "metadata": {
  "kernelspec": {
   "display_name": "Python 3",
   "language": "python",
   "name": "python3"
  },
  "language_info": {
   "codemirror_mode": {
    "name": "ipython",
    "version": 3
   },
   "file_extension": ".py",
   "mimetype": "text/x-python",
   "name": "python",
   "nbconvert_exporter": "python",
   "pygments_lexer": "ipython3",
   "version": "3.7.10"
  }
 },
 "nbformat": 4,
 "nbformat_minor": 5
}
