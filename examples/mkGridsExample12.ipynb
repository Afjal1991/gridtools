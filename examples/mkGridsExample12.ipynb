{
 "cells": [
  {
   "cell_type": "code",
   "execution_count": null,
   "id": "9b16579e-353e-43bc-9bc5-256c613511ff",
   "metadata": {},
   "outputs": [],
   "source": [
    "# Example 12:\n",
    "#\n",
    "# This example creates two simple grids in cartesian and lat/lon space and\n",
    "# demonstrates the use of the extendGrid() routine on two simple 5x5 grids."
   ]
  },
  {
   "cell_type": "code",
   "execution_count": null,
   "id": "c3caefa2-f550-4f8d-a909-a49cdd62f601",
   "metadata": {},
   "outputs": [],
   "source": [
    "# Initialize library\n",
    "# conda: gridTools\n",
    "import os\n",
    "from gridtools.gridutils import GridUtils\n",
    "%matplotlib inline\n",
    "grd = GridUtils()"
   ]
  },
  {
   "cell_type": "code",
   "execution_count": null,
   "id": "c3c6e2d5-d15f-4060-86c1-fd4c2a339960",
   "metadata": {},
   "outputs": [],
   "source": [
    "# Create a polar grid in cartesian space using LCC\n",
    "# Specify the grid parameters\n",
    "# NOTE: Specification of the grid is in degrees, but\n",
    "# the computation is done in meters.\n",
    "grd.setGridParameters({\n",
    "    'projection': {\n",
    "        'name': 'LambertConformalConic',\n",
    "        'lon_0': 230.0,\n",
    "        'lat_0': 40.0,\n",
    "        'ellps': 'WGS84'\n",
    "    },\n",
    "    'centerX': 230.0,\n",
    "    'centerY': 40.0,\n",
    "    'centerUnits': 'degrees',\n",
    "    'dx': 20.0,\n",
    "    'dxUnits': 'degrees',\n",
    "    'dy': 20.0,\n",
    "    'dyUnits': 'degrees',\n",
    "    'tilt': 0.0,\n",
    "    'gridResolution': 4.0,\n",
    "    'gridResolutionUnits': 'degrees',\n",
    "    'gridMode': 2,\n",
    "    'gridType': 'MOM6',\n",
    "    'ensureEvenI': True,\n",
    "    'ensureEvenJ': True,\n",
    "    'tileName': 'tile1',\n",
    "})\n",
    "grd.makeGrid()\n",
    "\n",
    "# Define plot parameters so we can see what the grid looks like\n",
    "grd.setPlotParameters(\n",
    "    {\n",
    "        'figsize': (8,8),\n",
    "        'projection': {\n",
    "            'name': 'NearsidePerspective',\n",
    "            'lat_0': 40.0,\n",
    "            'lon_0': 230.0\n",
    "        },\n",
    "        'extent': [-160.0 ,-100.0, 20.0, 60.0],\n",
    "        'iLinewidth': 1.0,\n",
    "        'jLinewidth': 1.0,\n",
    "        'showGridCells': True,\n",
    "        'title': \"Lambert Conformal Conic: 5x5\",\n",
    "        'iColor': 'k',\n",
    "        'jColor': 'k'\n",
    "    }\n",
    ")"
   ]
  },
  {
   "cell_type": "code",
   "execution_count": null,
   "id": "d362a8d3-1d3a-4d83-b4d1-62a22200610b",
   "metadata": {},
   "outputs": [],
   "source": [
    "(figure, axes) = grd.plotGrid()\n",
    "figure"
   ]
  },
  {
   "cell_type": "code",
   "execution_count": null,
   "id": "0e7fb045-0cff-4144-94f3-97a1097c6df6",
   "metadata": {},
   "outputs": [],
   "source": [
    "grd.grid"
   ]
  },
  {
   "cell_type": "code",
   "execution_count": null,
   "id": "56ec0b9d-896d-465a-aae0-4a65fc835bc6",
   "metadata": {},
   "outputs": [],
   "source": [
    "# Extend this grid one regular cell (two cells in the supergrid) using meters\n",
    "eGridLCC = grd.extendGrid(2,2,2,2)\n",
    "print(eGridLCC)"
   ]
  },
  {
   "cell_type": "code",
   "execution_count": null,
   "id": "5e7b2710-3ee6-42a8-b03b-cfa00ff79a2d",
   "metadata": {},
   "outputs": [],
   "source": [
    "# Create a mercator grid in lat/lon space"
   ]
  },
  {
   "cell_type": "code",
   "execution_count": null,
   "id": "e9b9b370-c9e7-49f6-857c-187d65e65950",
   "metadata": {},
   "outputs": [],
   "source": [
    "grd.setGridParameters({\n",
    "    'projection': {\n",
    "        'name': 'Mercator',\n",
    "        'lon_0': 230.0,\n",
    "        'lat_0': 40.0,\n",
    "        'ellps': 'WGS84'\n",
    "    },\n",
    "    'centerX': 230.0,\n",
    "    'centerY': 40.0,\n",
    "    'centerUnits': 'degrees',\n",
    "    'dx': 20.0,\n",
    "    'dxUnits': 'degrees',\n",
    "    'dy': 20.0,\n",
    "    'dyUnits': 'degrees',\n",
    "    'tilt': 0.0,\n",
    "    'gridResolution': 4.0,\n",
    "    'gridResolutionUnits': 'degrees',\n",
    "    'gridMode': 2,\n",
    "    'gridType': 'MOM6',\n",
    "    'ensureEvenI': True,\n",
    "    'ensureEvenJ': True,\n",
    "    'tileName': 'tile1',\n",
    "})\n",
    "grd.makeGrid()\n",
    "\n",
    "# Define plot parameters so we can see what the grid looks like\n",
    "grd.setPlotParameters(\n",
    "    {\n",
    "        'figsize': (8,8),\n",
    "        'projection': {\n",
    "            'name': 'NearsidePerspective',\n",
    "            'lat_0': 40.0,\n",
    "            'lon_0': 230.0\n",
    "        },\n",
    "        'extent': [-160.0 ,-100.0, 20.0, 60.0],\n",
    "        'iLinewidth': 1.0,\n",
    "        'jLinewidth': 1.0,\n",
    "        'showGridCells': True,\n",
    "        'title': \"Mercator: 5x5\",\n",
    "        'iColor': 'k',\n",
    "        'jColor': 'k'\n",
    "    }\n",
    ")"
   ]
  },
  {
   "cell_type": "code",
   "execution_count": null,
   "id": "3cac5524-2a33-44f9-b600-fd7b53e23188",
   "metadata": {},
   "outputs": [],
   "source": [
    "(figure, axes) = grd.plotGrid()\n",
    "figure"
   ]
  },
  {
   "cell_type": "code",
   "execution_count": null,
   "id": "1f8cfdd3-ed5c-4701-9d49-52138a79d40c",
   "metadata": {},
   "outputs": [],
   "source": [
    "grd.grid"
   ]
  },
  {
   "cell_type": "code",
   "execution_count": null,
   "id": "77db29f7-71e4-44d2-bb4e-19e8ac19da96",
   "metadata": {},
   "outputs": [],
   "source": [
    "# Extend this grid one regular cell (two cells in the supergrid) using degrees\n",
    "eGridMercator = grd.extendGrid(2,2,2,2)\n",
    "print(eGridMercator)"
   ]
  },
  {
   "cell_type": "code",
   "execution_count": null,
   "id": "1198cab1-7c98-432b-9168-e23899ed7355",
   "metadata": {},
   "outputs": [],
   "source": []
  }
 ],
 "metadata": {
  "kernelspec": {
   "display_name": "Python 3",
   "language": "python",
   "name": "python3"
  },
  "language_info": {
   "codemirror_mode": {
    "name": "ipython",
    "version": 3
   },
   "file_extension": ".py",
   "mimetype": "text/x-python",
   "name": "python",
   "nbconvert_exporter": "python",
   "pygments_lexer": "ipython3",
   "version": "3.7.10"
  }
 },
 "nbformat": 4,
 "nbformat_minor": 5
}
