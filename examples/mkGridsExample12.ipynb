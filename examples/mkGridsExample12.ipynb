{
 "cells": [
  {
   "cell_type": "code",
   "execution_count": null,
   "id": "9b16579e-353e-43bc-9bc5-256c613511ff",
   "metadata": {},
   "outputs": [],
   "source": [
    "# Example 12:\n",
    "#\n",
    "# This example creates two simple grids in cartesian and lat/lon space and\n",
    "# demonstrates the use of the extendGrid() routine on two simple 5x5 grids."
   ]
  },
  {
   "cell_type": "code",
   "execution_count": null,
   "id": "c3caefa2-f550-4f8d-a909-a49cdd62f601",
   "metadata": {},
   "outputs": [],
   "source": [
    "# Initialize library\n",
    "# conda: gridTools\n",
    "import os\n",
    "from gridtools.gridutils import GridUtils\n",
    "%matplotlib inline\n",
    "grd = GridUtils()"
   ]
  },
  {
   "cell_type": "code",
   "execution_count": null,
   "id": "c3c6e2d5-d15f-4060-86c1-fd4c2a339960",
   "metadata": {},
   "outputs": [],
   "source": [
    "# Create a grid in spherical space using the LCC projection\n",
    "# NOTE: Specification of the grid is in degrees, but\n",
    "# the computation is spherical coordinates using meters.\n",
    "grd.setGridParameters({\n",
    "    'projection': {\n",
    "        'name': 'LambertConformalConic',\n",
    "        'lon_0': 230.0,\n",
    "        'lat_0': 40.0,\n",
    "        'ellps': 'WGS84'\n",
    "    },\n",
    "    'centerX': 230.0,\n",
    "    'centerY': 40.0,\n",
    "    'centerUnits': 'degrees',\n",
    "    'dx': 20.0,\n",
    "    'dxUnits': 'degrees',\n",
    "    'dy': 20.0,\n",
    "    'dyUnits': 'degrees',\n",
    "    'tilt': 0.0,\n",
    "    'gridResolution': 4.0,\n",
    "    'gridResolutionUnits': 'degrees',\n",
    "    'gridMode': 2,\n",
    "    'gridType': 'MOM6',\n",
    "    'ensureEvenI': True,\n",
    "    'ensureEvenJ': True,\n",
    "    'tileName': 'tile1',\n",
    "})\n",
    "grd.makeGrid()\n",
    "\n",
    "# Define plot parameters so we can see what the grid looks like\n",
    "grd.setPlotParameters(\n",
    "    {\n",
    "        'figsize': (8,8),\n",
    "        'projection': {\n",
    "            'name': 'NearsidePerspective',\n",
    "            'lat_0': 40.0,\n",
    "            'lon_0': 230.0\n",
    "        },\n",
    "        'extent': [-160.0 ,-100.0, 20.0, 60.0],\n",
    "        'iLinewidth': 1.0,\n",
    "        'jLinewidth': 1.0,\n",
    "        'showGridCells': True,\n",
    "        'title': \"Lambert Conformal Conic: 5x5\",\n",
    "        'iColor': 'k',\n",
    "        'jColor': 'k'\n",
    "    }\n",
    ")"
   ]
  },
  {
   "cell_type": "code",
   "execution_count": null,
   "id": "d362a8d3-1d3a-4d83-b4d1-62a22200610b",
   "metadata": {},
   "outputs": [],
   "source": [
    "(figure, axes) = grd.plotGrid()\n",
    "figure"
   ]
  },
  {
   "cell_type": "code",
   "execution_count": null,
   "id": "56ec0b9d-896d-465a-aae0-4a65fc835bc6",
   "metadata": {},
   "outputs": [],
   "source": [
    "# Extend this grid one regular cell (two cells in the supergrid) using meters\n",
    "extGrid = grd.extendGrid(2,2,2,2)"
   ]
  },
  {
   "cell_type": "code",
   "execution_count": null,
   "id": "2f8c73e2-5a73-488e-a980-78079d18a421",
   "metadata": {},
   "outputs": [],
   "source": [
    "eGridLCC = GridUtils()\n",
    "eGridLCC.readGrid(local=extGrid)"
   ]
  },
  {
   "cell_type": "code",
   "execution_count": null,
   "id": "2dd52472-7420-42cf-a36e-fc9560c13e10",
   "metadata": {},
   "outputs": [],
   "source": [
    "eGridLCC.setPlotParameters(\n",
    "    {\n",
    "        'figsize': (8,8),\n",
    "        'projection': {\n",
    "            'name': 'NearsidePerspective',\n",
    "            'lat_0': 40.0,\n",
    "            'lon_0': 230.0\n",
    "        },\n",
    "        'extent': [-160.0 ,-100.0, 20.0, 60.0],\n",
    "        'iLinewidth': 1.0,\n",
    "        'jLinewidth': 1.0,\n",
    "        'showGridCells': True,\n",
    "        'title': \"Lambert Conformal Conic: 5x5 extended by 1 regular grid point to 7x7\",\n",
    "        'iColor': 'k',\n",
    "        'jColor': 'k'\n",
    "    }\n",
    ")"
   ]
  },
  {
   "cell_type": "code",
   "execution_count": null,
   "id": "7cd5b8aa-ff3c-403e-b04e-163f558e4a3e",
   "metadata": {},
   "outputs": [],
   "source": [
    "(figure, axes) = eGridLCC.plotGrid()\n",
    "figure"
   ]
  },
  {
   "cell_type": "code",
   "execution_count": null,
   "id": "0331708d-f6ee-4667-8cb8-54405c30cafd",
   "metadata": {},
   "outputs": [],
   "source": [
    "eGridLCC.grid"
   ]
  },
  {
   "cell_type": "code",
   "execution_count": null,
   "id": "5e7b2710-3ee6-42a8-b03b-cfa00ff79a2d",
   "metadata": {},
   "outputs": [],
   "source": [
    "# Create a mercator grid in lat/lon space"
   ]
  },
  {
   "cell_type": "code",
   "execution_count": null,
   "id": "e9b9b370-c9e7-49f6-857c-187d65e65950",
   "metadata": {},
   "outputs": [],
   "source": [
    "grd.setGridParameters({\n",
    "    'projection': {\n",
    "        'name': 'Mercator',\n",
    "        'lon_0': 230.0,\n",
    "        'lat_0': 40.0,\n",
    "        'ellps': 'WGS84'\n",
    "    },\n",
    "    'centerX': 230.0,\n",
    "    'centerY': 40.0,\n",
    "    'centerUnits': 'degrees',\n",
    "    'dx': 20.0,\n",
    "    'dxUnits': 'degrees',\n",
    "    'dy': 20.0,\n",
    "    'dyUnits': 'degrees',\n",
    "    'tilt': 0.0,\n",
    "    'gridResolution': 4.0,\n",
    "    'gridResolutionUnits': 'degrees',\n",
    "    'gridMode': 2,\n",
    "    'gridType': 'MOM6',\n",
    "    'ensureEvenI': True,\n",
    "    'ensureEvenJ': True,\n",
    "    'tileName': 'tile1',\n",
    "})\n",
    "grd.makeGrid()\n",
    "\n",
    "# Define plot parameters so we can see what the grid looks like\n",
    "grd.setPlotParameters(\n",
    "    {\n",
    "        'figsize': (8,8),\n",
    "        'projection': {\n",
    "            'name': 'NearsidePerspective',\n",
    "            'lat_0': 40.0,\n",
    "            'lon_0': 230.0\n",
    "        },\n",
    "        'extent': [-160.0 ,-100.0, 20.0, 60.0],\n",
    "        'iLinewidth': 1.0,\n",
    "        'jLinewidth': 1.0,\n",
    "        'showGridCells': True,\n",
    "        'title': \"Mercator: 5x5\",\n",
    "        'iColor': 'k',\n",
    "        'jColor': 'k'\n",
    "    }\n",
    ")"
   ]
  },
  {
   "cell_type": "code",
   "execution_count": null,
   "id": "3cac5524-2a33-44f9-b600-fd7b53e23188",
   "metadata": {},
   "outputs": [],
   "source": [
    "(figure, axes) = grd.plotGrid()\n",
    "figure"
   ]
  },
  {
   "cell_type": "code",
   "execution_count": null,
   "id": "77db29f7-71e4-44d2-bb4e-19e8ac19da96",
   "metadata": {},
   "outputs": [],
   "source": [
    "# Extend this grid one regular cell (two cells in the supergrid) using degrees\n",
    "extGrid = grd.extendGrid(2,2,2,2)"
   ]
  },
  {
   "cell_type": "code",
   "execution_count": null,
   "id": "1198cab1-7c98-432b-9168-e23899ed7355",
   "metadata": {},
   "outputs": [],
   "source": [
    "eGridMercator = GridUtils()\n",
    "eGridMercator.readGrid(local=extGrid)"
   ]
  },
  {
   "cell_type": "code",
   "execution_count": null,
   "id": "a6a9b540-093b-424f-b46c-837566927fa2",
   "metadata": {},
   "outputs": [],
   "source": [
    "# Define plot parameters so we can see what the grid looks like\n",
    "eGridMercator.setPlotParameters(\n",
    "    {\n",
    "        'figsize': (8,8),\n",
    "        'projection': {\n",
    "            'name': 'NearsidePerspective',\n",
    "            'lat_0': 40.0,\n",
    "            'lon_0': 230.0\n",
    "        },\n",
    "        'extent': [-160.0 ,-100.0, 20.0, 60.0],\n",
    "        'iLinewidth': 1.0,\n",
    "        'jLinewidth': 1.0,\n",
    "        'showGridCells': True,\n",
    "        'title': \"Mercator: 5x5 extended by 1 regular grid point to 7x7\",\n",
    "        'iColor': 'k',\n",
    "        'jColor': 'k'\n",
    "    }\n",
    ")"
   ]
  },
  {
   "cell_type": "code",
   "execution_count": null,
   "id": "c6759833-fcbc-487c-8034-12a57d803261",
   "metadata": {},
   "outputs": [],
   "source": [
    "(figure, axes) = eGridMercator.plotGrid()\n",
    "figure"
   ]
  },
  {
   "cell_type": "code",
   "execution_count": null,
   "id": "4427c871-7ed1-4bd1-bb31-eef72cf145d5",
   "metadata": {},
   "outputs": [],
   "source": [
    "# Create a 5x5 Stereographic grid for testing\n",
    "grd.setGridParameters({\n",
    "    'projection': {\n",
    "        'name': \"Stereographic\",\n",
    "        'ellps': 'WGS84',\n",
    "        'lon_0': 0.0,\n",
    "        'lat_0': 90.0,\n",
    "        'lat_ts': 75.0,\n",
    "    },\n",
    "    'centerX': 0.0,\n",
    "    'centerY': 90.0,\n",
    "    'cneterUnits': 'degrees',\n",
    "    'dx': 2500000.0,\n",
    "    'dy': 2500000.0,\n",
    "    'dxUnits': 'meters',\n",
    "    'dyUnits': 'meters',\n",
    "    'gridResolution': 500000.0,\n",
    "    'gridResolutionUnits': 'meters',\n",
    "    'tilt': 0.0,\n",
    "    'gridMode': 2,\n",
    "    'gridType': 'MOM6',\n",
    "    'ensureEvenI': True,\n",
    "    'ensureEvenJ': True\n",
    "})\n",
    "\n",
    "grd.makeGrid()"
   ]
  },
  {
   "cell_type": "code",
   "execution_count": null,
   "id": "becd19ed-ffc7-4c3b-8327-ba54eb291360",
   "metadata": {},
   "outputs": [],
   "source": [
    "# Define plot parameters so we can see what the grid looks like\n",
    "grd.setPlotParameters(\n",
    "    {\n",
    "        'figsize': (8,8),\n",
    "        'projection': {\n",
    "            'name': 'Stereographic',\n",
    "            'lon_0': 0.0,\n",
    "            'lat_0': 90.0\n",
    "        },\n",
    "        'extent': [-180, 180, 60, 90],\n",
    "        'iLinewidth': 1.0,\n",
    "        'jLinewidth': 1.0,\n",
    "        'showGrid': False,\n",
    "        'showGridCells': True,\n",
    "        'title': 'Stereographic: 5x5',\n",
    "        'iColor': 'k',\n",
    "        'jColor': 'k'\n",
    "    }\n",
    ")\n",
    "\n",
    "(figure, axes) = grd.plotGrid()\n",
    "figure"
   ]
  },
  {
   "cell_type": "code",
   "execution_count": null,
   "id": "36218729-8e74-4b2d-925f-fde34cc5dcfb",
   "metadata": {},
   "outputs": [],
   "source": [
    "# Extend this grid one regular cell (two cells in the supergrid) using meters\n",
    "extGrid = grd.extendGrid(2,2,2,2)"
   ]
  },
  {
   "cell_type": "code",
   "execution_count": null,
   "id": "0a4dd38a-9251-4cd5-abde-bdd09531e1c1",
   "metadata": {},
   "outputs": [],
   "source": [
    "eGridStereographic = GridUtils()\n",
    "eGridStereographic.readGrid(local=extGrid)"
   ]
  },
  {
   "cell_type": "code",
   "execution_count": null,
   "id": "3bbf6fbf-b1b6-45e6-94a5-a5509aeeb658",
   "metadata": {},
   "outputs": [],
   "source": [
    "eGridStereographic.setPlotParameters(\n",
    "    {\n",
    "        'figsize': (8,8),\n",
    "        'projection': {\n",
    "            'name': 'Stereographic',\n",
    "            'lon_0': 0.0,\n",
    "            'lat_0': 90.0\n",
    "        },\n",
    "        'extent': [-180, 180, 60, 90],\n",
    "        'iLinewidth': 1.0,\n",
    "        'jLinewidth': 1.0,\n",
    "        'showGrid': False,\n",
    "        'showGridCells': True,\n",
    "        'title': 'Stereographic: 5x5 extended by 1 regular grid point to 7x7',\n",
    "        'iColor': 'k',\n",
    "        'jColor': 'k'\n",
    "    }\n",
    ")\n",
    "\n",
    "(figure, axes) = eGridStereographic.plotGrid()\n",
    "figure"
   ]
  }
 ],
 "metadata": {
  "kernelspec": {
   "display_name": "Python 3",
   "language": "python",
   "name": "python3"
  },
  "language_info": {
   "codemirror_mode": {
    "name": "ipython",
    "version": 3
   },
   "file_extension": ".py",
   "mimetype": "text/x-python",
   "name": "python",
   "nbconvert_exporter": "python",
   "pygments_lexer": "ipython3",
   "version": "3.7.10"
  }
 },
 "nbformat": 4,
 "nbformat_minor": 5
}
