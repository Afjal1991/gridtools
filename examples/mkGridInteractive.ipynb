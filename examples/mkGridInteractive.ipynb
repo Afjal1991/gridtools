{
 "cells": [
  {
   "cell_type": "code",
   "execution_count": null,
   "id": "a655cdec",
   "metadata": {},
   "outputs": [],
   "source": [
    "# conda: gridTools\n",
    "\n",
    "# This should be the minimalist\n",
    "# notebook script to launch the\n",
    "# gridtools library for interactive\n",
    "# mode (Application).\n",
    "\n",
    "# The source for the application can be\n",
    "# found in gridtools/app.py. You need to save\n",
    "# any changes and re-run all the cells for\n",
    "# changes to be applied.\n",
    "\n",
    "# Required to access environment variables via os.environ.\n",
    "import os\n",
    "\n",
    "useDisplay = False\n",
    "\n",
    "# Detect if we are running on mybinder.org\n",
    "if os.environ.get('BINDER_LAUNCH_HOST') in ['https://mybinder.org/']:\n",
    "    useDisplay = True\n",
    "        \n",
    "# Set your username if you need to use display() instead of show()\n",
    "if os.environ.get('USER') == 'cermak':\n",
    "    useDisplay = True\n",
    "\n",
    "from gridtools.gridutils import GridUtils"
   ]
  },
  {
   "cell_type": "code",
   "execution_count": null,
   "id": "fa2aa824",
   "metadata": {},
   "outputs": [],
   "source": [
    "# Disable annoying warnings from python\n",
    "import warnings\n",
    "warnings.filterwarnings('ignore')"
   ]
  },
  {
   "cell_type": "code",
   "execution_count": null,
   "id": "d25fb0f1",
   "metadata": {},
   "outputs": [],
   "source": [
    "# If we are successful, we can initialize the grid toolset\n",
    "grd = GridUtils()"
   ]
  },
  {
   "cell_type": "code",
   "execution_count": null,
   "id": "cb355fac",
   "metadata": {},
   "outputs": [],
   "source": [
    "# Initialize the application\n",
    "dashboard = grd.app()"
   ]
  },
  {
   "cell_type": "code",
   "execution_count": null,
   "id": "e8c126ae",
   "metadata": {},
   "outputs": [],
   "source": [
    "# Launch the application"
   ]
  },
  {
   "cell_type": "code",
   "execution_count": null,
   "id": "1c968a37",
   "metadata": {},
   "outputs": [],
   "source": [
    "if not(useDisplay):\n",
    "    dashboard.show()"
   ]
  },
  {
   "cell_type": "code",
   "execution_count": null,
   "id": "4a258c5a",
   "metadata": {},
   "outputs": [],
   "source": [
    "if useDisplay:\n",
    "    dashboard.servable();"
   ]
  },
  {
   "cell_type": "code",
   "execution_count": null,
   "id": "b232aac6",
   "metadata": {},
   "outputs": [],
   "source": [
    "if useDisplay:\n",
    "    # Need to expand width of cells in Binder\n",
    "    from IPython.core.display import HTML\n",
    "    display(HTML(\"<style>.container { width:100% !important; }</style>\"))"
   ]
  },
  {
   "cell_type": "code",
   "execution_count": null,
   "id": "7df0478f",
   "metadata": {},
   "outputs": [],
   "source": [
    "if useDisplay:\n",
    "    display(dashboard)"
   ]
  },
  {
   "cell_type": "code",
   "execution_count": null,
   "id": "b19ae992",
   "metadata": {},
   "outputs": [],
   "source": []
  }
 ],
 "metadata": {
  "kernelspec": {
   "display_name": "Python 3",
   "language": "python",
   "name": "python3"
  },
  "language_info": {
   "codemirror_mode": {
    "name": "ipython",
    "version": 3
   },
   "file_extension": ".py",
   "mimetype": "text/x-python",
   "name": "python",
   "nbconvert_exporter": "python",
   "pygments_lexer": "ipython3",
   "version": "3.9.4"
  }
 },
 "nbformat": 4,
 "nbformat_minor": 5
}
