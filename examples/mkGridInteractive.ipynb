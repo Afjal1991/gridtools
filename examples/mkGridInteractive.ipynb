{
 "cells": [
  {
   "cell_type": "code",
   "execution_count": null,
   "id": "8b40c15b",
   "metadata": {},
   "outputs": [],
   "source": [
    "# conda: gridTools\n",
    "\n",
    "# This should be the minimalist\n",
    "# notebook script to launch the\n",
    "# gridtools library for interactive\n",
    "# mode (Application).\n",
    "\n",
    "# The source for the application can be\n",
    "# found in gridtools/app.py. You need to save\n",
    "# any changes and re-run all the cells for\n",
    "# changes to be applied.\n",
    "\n",
    "# Required to access environment variables via os.environ.\n",
    "import os\n",
    "\n",
    "useDisplay = False\n",
    "\n",
    "# Detect if we are running on mybinder.org\n",
    "if os.environ.get('BINDER_LAUNCH_HOST') in ['https://mybinder.org/']:\n",
    "    useDisplay = True\n",
    "        \n",
    "# Set your username if you need to use display() instead of show()\n",
    "if os.environ.get('USER') in ['cermak','jrcermakiii']:\n",
    "    useDisplay = True\n",
    "\n",
    "from gridtools.gridutils import GridUtils"
   ]
  },
  {
   "cell_type": "code",
   "execution_count": null,
   "id": "675ccdcb",
   "metadata": {},
   "outputs": [],
   "source": [
    "# Disable annoying warnings from python\n",
    "import warnings\n",
    "warnings.filterwarnings('ignore')"
   ]
  },
  {
   "cell_type": "code",
   "execution_count": null,
   "id": "ca46b85d",
   "metadata": {},
   "outputs": [],
   "source": [
    "# If we are successful, we can initialize the grid toolset\n",
    "grd = GridUtils()"
   ]
  },
  {
   "cell_type": "code",
   "execution_count": null,
   "id": "f09feae9",
   "metadata": {},
   "outputs": [],
   "source": [
    "# Initialize the application\n",
    "dashboard = grd.app()"
   ]
  },
  {
   "cell_type": "code",
   "execution_count": null,
   "id": "49919735",
   "metadata": {},
   "outputs": [],
   "source": [
    "# Launch the application"
   ]
  },
  {
   "cell_type": "code",
   "execution_count": null,
   "id": "c5850262",
   "metadata": {},
   "outputs": [],
   "source": [
    "if not(useDisplay):\n",
    "    dashboard.show()"
   ]
  },
  {
   "cell_type": "code",
   "execution_count": null,
   "id": "eb85a3b9",
   "metadata": {},
   "outputs": [],
   "source": [
    "if useDisplay:\n",
    "    dashboard.servable();"
   ]
  },
  {
   "cell_type": "code",
   "execution_count": null,
   "id": "2353f696",
   "metadata": {},
   "outputs": [],
   "source": [
    "if useDisplay:\n",
    "    # Need to expand width of cells in Binder\n",
    "    from IPython.core.display import HTML\n",
    "    display(HTML(\"<style>.container { width:100% !important; }</style>\"))"
   ]
  },
  {
   "cell_type": "code",
   "execution_count": null,
   "id": "4168b709",
   "metadata": {},
   "outputs": [],
   "source": [
    "if useDisplay:\n",
    "    display(dashboard)"
   ]
  },
  {
   "cell_type": "code",
   "execution_count": null,
   "id": "f64c3e50",
   "metadata": {},
   "outputs": [],
   "source": []
  }
 ],
 "metadata": {
  "kernelspec": {
   "display_name": "Python 3",
   "language": "python",
   "name": "python3"
  },
  "language_info": {
   "codemirror_mode": {
    "name": "ipython",
    "version": 3
   },
   "file_extension": ".py",
   "mimetype": "text/x-python",
   "name": "python",
   "nbconvert_exporter": "python",
   "pygments_lexer": "ipython3",
   "version": "3.7.10"
  }
 },
 "nbformat": 4,
 "nbformat_minor": 5
}
