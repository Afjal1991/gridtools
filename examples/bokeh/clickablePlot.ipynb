{
 "cells": [
  {
   "cell_type": "code",
   "execution_count": null,
   "id": "4e4dbb93-3996-43ac-b3b1-9aca38b161f0",
   "metadata": {},
   "outputs": [],
   "source": [
    "# Developed by James Simkins \n",
    "# with help from holoviz gitter community"
   ]
  },
  {
   "cell_type": "code",
   "execution_count": null,
   "id": "fcd296d2-d286-439f-a27e-d2a7fa795823",
   "metadata": {},
   "outputs": [],
   "source": [
    "import xarray as xr #version 0.15.1\n",
    "import hvplot.xarray #version 0.6.0\n",
    "import holoviews as hv\n",
    "import geoviews as gv #version 1.8.1\n",
    "gv.extension('bokeh')\n",
    "\n",
    "clickedValues = []\n",
    "\n",
    "def plot(x, y):\n",
    "    if x is not None:\n",
    "        da_sel = da.sel(lon=x, lat=y, method=\"nearest\")\n",
    "        # The print statement does not show anything with the click events\n",
    "        clickedValues.append(dict(lat=da_sel[\"lat\"].item(), lon=da_sel[\"lon\"].item()))\n",
    "        da.loc[dict(lat=da_sel[\"lat\"].item(), lon=da_sel[\"lon\"].item())] = 0\n",
    "\n",
    "    # This has a side effect of dynamically changing the colorbar and the\n",
    "    # rendered image.\n",
    "    return da.hvplot(x='lon', y='lat')\n",
    "\n",
    "ds = xr.tutorial.open_dataset(\"air_temperature\").isel(time=0)\n",
    "da = ds[\"air\"]\n",
    "\n",
    "print(da)\n",
    "\n",
    "tap_stream = hv.streams.Tap()\n",
    "dmap = gv.DynamicMap(plot, streams=[tap_stream])\n",
    "dmap"
   ]
  },
  {
   "cell_type": "code",
   "execution_count": null,
   "id": "19b6e8df-bdd4-48e7-8643-f608711a5c31",
   "metadata": {},
   "outputs": [],
   "source": [
    "clickedValues"
   ]
  },
  {
   "cell_type": "code",
   "execution_count": null,
   "id": "ff676fb7-bb47-4be9-872c-1fde477c3df7",
   "metadata": {},
   "outputs": [],
   "source": []
  }
 ],
 "metadata": {
  "kernelspec": {
   "display_name": "Python 3",
   "language": "python",
   "name": "python3"
  },
  "language_info": {
   "codemirror_mode": {
    "name": "ipython",
    "version": 3
   },
   "file_extension": ".py",
   "mimetype": "text/x-python",
   "name": "python",
   "nbconvert_exporter": "python",
   "pygments_lexer": "ipython3",
   "version": "3.8.10"
  }
 },
 "nbformat": 4,
 "nbformat_minor": 5
}
