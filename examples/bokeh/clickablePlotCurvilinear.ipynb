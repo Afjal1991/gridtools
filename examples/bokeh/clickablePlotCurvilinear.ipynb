{
 "cells": [
  {
   "cell_type": "code",
   "execution_count": null,
   "id": "4e4dbb93-3996-43ac-b3b1-9aca38b161f0",
   "metadata": {},
   "outputs": [],
   "source": [
    "# Developed by James Simkins \n",
    "# with help from holoviz gitter community"
   ]
  },
  {
   "cell_type": "code",
   "execution_count": null,
   "id": "fcd296d2-d286-439f-a27e-d2a7fa795823",
   "metadata": {},
   "outputs": [],
   "source": [
    "import xarray as xr #version 0.15.1\n",
    "import hvplot.xarray #version 0.6.0\n",
    "import holoviews as hv\n",
    "import geoviews as gv #version 1.8.1\n",
    "import cartopy.crs as ccrs\n",
    "import numpy as np\n",
    "gv.extension('bokeh')\n",
    "\n",
    "clickedValues = []\n",
    "\n",
    "# convert to numpy\n",
    "def great_circle(lon1, lat1, lon2, lat2):\n",
    "    # REF: https://medium.com/@petehouston/calculate-distance-of-two-locations-on-earth-using-python-1501b1944d97\n",
    "    # Convert to numpy\n",
    "    lon1, lat1, lon2, lat2 = map(np.radians, [lon1, lat1, lon2, lat2])\n",
    "\n",
    "\n",
    "    dist = 6371 * (\n",
    "        np.arccos(np.sin(lat1) * np.sin(lat2) + np.cos(lat1) * np.cos(lat2) * np.cos(lon1 - lon2))\n",
    "    )\n",
    "    \n",
    "    return dist\n",
    "\n",
    "def plot(x, y):\n",
    "    lon = x\n",
    "    lat = y\n",
    "\n",
    "    if x is not None:\n",
    "        \n",
    "        # Curvilinear\n",
    "        d = great_circle(lon, lat, da['lon'], da['lat'])\n",
    "        ind = np.nonzero(np.equal(d, np.amin(d)))\n",
    "        yloc = int(ind[0][0])\n",
    "        xloc = int(ind[1][0])\n",
    "        \n",
    "        clickedValues.append([lon, lat, yloc, xloc])\n",
    "\n",
    "        da_sel = da.sel(y = yloc, x = xloc)        \n",
    "        da.loc[yloc, xloc] = 0\n",
    "\n",
    "    # This has a side effect of dynamically changing the colorbar and the\n",
    "    # rendered image.\n",
    "    \n",
    "    # REF: https://hvplot.holoviz.org/user_guide/Geographic_Data.html#declaring-an-output-projection\n",
    "    plt = da.hvplot.quadmesh(\n",
    "        'lon', 'lat', projection=ccrs.Orthographic(-90, 90),\n",
    "        global_extent=True, frame_height=540, cmap='viridis',\n",
    "        coastline=True\n",
    "    )\n",
    "    \n",
    "    return plt\n",
    "\n",
    "ds = xr.tutorial.open_dataset(\"rasm\").isel(time=0)\n",
    "da = ds[\"Tair\"]\n",
    "\n",
    "da = da.rename({\n",
    "    'xc': 'lon',\n",
    "    'yc': 'lat'\n",
    "})\n",
    "\n",
    "tap_stream = hv.streams.Tap()\n",
    "dmap = gv.DynamicMap(plot, streams=[tap_stream])\n",
    "dmap"
   ]
  }
 ],
 "metadata": {
  "kernelspec": {
   "display_name": "Python 3",
   "language": "python",
   "name": "python3"
  },
  "language_info": {
   "codemirror_mode": {
    "name": "ipython",
    "version": 3
   },
   "file_extension": ".py",
   "mimetype": "text/x-python",
   "name": "python",
   "nbconvert_exporter": "python",
   "pygments_lexer": "ipython3",
   "version": "3.7.10"
  }
 },
 "nbformat": 4,
 "nbformat_minor": 5
}
