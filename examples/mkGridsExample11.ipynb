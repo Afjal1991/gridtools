{
 "cells": [
  {
   "cell_type": "code",
   "execution_count": null,
   "id": "b795e609-db9e-4c35-a714-58f68404fd26",
   "metadata": {},
   "outputs": [],
   "source": [
    "# conda: gridTools\n",
    "\n",
    "# NOTICE: THIS EXAMPLE IS INCOMPLETE\n",
    "\n",
    "# Part A:\n",
    "# This example exercises the automatic mode grid detection function.\n",
    "# Given a model grid, we should be able to determine if it was\n",
    "# created in Mercator, Lambert Conformal Conic or Stereographic.\n",
    "# Additional metadata is great!\n",
    "\n",
    "# Part B:\n",
    "# Exercise functions that automatically extend the grid in one\n",
    "# or more directions for use in functions that require extending\n",
    "# a grid to overcome an issue or assist with periodic boundaries."
   ]
  },
  {
   "cell_type": "code",
   "execution_count": null,
   "id": "58324010-50b2-4ec6-84c2-beac5746b436",
   "metadata": {},
   "outputs": [],
   "source": [
    "# gridtools library imports\n",
    "import sys, os, logging\n",
    "import cartopy\n",
    "from gridtools.gridutils import GridUtils"
   ]
  },
  {
   "cell_type": "code",
   "execution_count": null,
   "id": "71102090-6ea6-4aea-a328-52c8328ba4ea",
   "metadata": {},
   "outputs": [],
   "source": [
    "# Set a place to read/write files\n",
    "wrkDir = '/import/AKWATERS/jrcermakiii/configs/zOutput'\n",
    "inputDir = os.path.join(wrkDir, 'INPUT')"
   ]
  },
  {
   "cell_type": "markdown",
   "id": "ff17a4aa-775e-4a59-b87d-142ae3d8f756",
   "metadata": {},
   "source": [
    "# Part A"
   ]
  },
  {
   "cell_type": "code",
   "execution_count": null,
   "id": "03d16aea-c782-4247-a158-4d8abe91b666",
   "metadata": {},
   "outputs": [],
   "source": [
    "# Example 1 produces a Lambert Conformal Conic model grid\n",
    "ex1lcc = os.path.join(wrkDir, \"LCC_20x30_Example1.nc\")\n",
    "# Example 3 produces a Mercator model grid\n",
    "ex3merc = os.path.join(wrkDir, \"MERC_20x30_Example3.nc\")\n",
    "# Example 6 produces a Stereographic model grid\n",
    "ex6ste = os.path.join(wrkDir, \"STE_miniIBCAO_Example6.nc\")"
   ]
  },
  {
   "cell_type": "code",
   "execution_count": null,
   "id": "e66d3702-1e85-416b-8c31-7906ce625bec",
   "metadata": {},
   "outputs": [],
   "source": [
    "# Load example 1 Lambert Conformal Conic grid\n",
    "grdLCC = GridUtils()\n",
    "grdLCC.openGrid(ex1lcc)\n",
    "grdLCC.readGrid()"
   ]
  },
  {
   "cell_type": "code",
   "execution_count": null,
   "id": "e049d7e6-4b45-44b4-905c-97e76bd90492",
   "metadata": {},
   "outputs": [],
   "source": [
    "# Load example 3 Mercator grid\n",
    "grdMERC = GridUtils()\n",
    "grdMERC.openGrid(ex3merc)\n",
    "grdMERC.readGrid()"
   ]
  },
  {
   "cell_type": "code",
   "execution_count": null,
   "id": "ba84f2f2-ebc9-4ea2-95d7-efb7f7b0f33d",
   "metadata": {},
   "outputs": [],
   "source": [
    "# Load example 6 Stereogrphic grid\n",
    "grdSTE = GridUtils()\n",
    "grdSTE.openGrid(ex6ste)\n",
    "grdSTE.readGrid()"
   ]
  },
  {
   "cell_type": "markdown",
   "id": "c4c797f3-2aed-4c01-a0a4-81b1e40c67a5",
   "metadata": {},
   "source": [
    "# Part B"
   ]
  },
  {
   "cell_type": "code",
   "execution_count": null,
   "id": "5cdaf035-a7ac-4ad6-80d4-bdf940be609a",
   "metadata": {},
   "outputs": [],
   "source": [
    "# Extend grid 1 cell in all directions"
   ]
  },
  {
   "cell_type": "code",
   "execution_count": null,
   "id": "522eba84-9db2-4e7b-89c5-eefefcf3329e",
   "metadata": {},
   "outputs": [],
   "source": [
    "# Extend grid 6 cells in x0 direction"
   ]
  },
  {
   "cell_type": "code",
   "execution_count": null,
   "id": "071224dc-ebcd-4c5a-aa21-1393454050df",
   "metadata": {},
   "outputs": [],
   "source": [
    "# Extend grid 5 cells in y0 direction"
   ]
  },
  {
   "cell_type": "code",
   "execution_count": null,
   "id": "4af2ddfa-6b2f-43e9-b6e5-9d39e61445be",
   "metadata": {},
   "outputs": [],
   "source": [
    "# Extend grid 4 cells in xN direction"
   ]
  },
  {
   "cell_type": "code",
   "execution_count": null,
   "id": "8cf9dbf6-8b32-4b69-8340-f143cf32ee79",
   "metadata": {},
   "outputs": [],
   "source": [
    "# Extend grid 3 cells in yN direction"
   ]
  },
  {
   "cell_type": "code",
   "execution_count": null,
   "id": "20a6c511-8861-400b-a0ed-b4e0c9882873",
   "metadata": {},
   "outputs": [],
   "source": [
    "# Extend grid x0(1), y0(2), xN(3), yN(4) cells"
   ]
  },
  {
   "cell_type": "code",
   "execution_count": null,
   "id": "ea7822e6-4cf6-4c4f-a808-bbbb6b246300",
   "metadata": {},
   "outputs": [],
   "source": []
  },
  {
   "cell_type": "code",
   "execution_count": null,
   "id": "a7aab26d-08d1-4159-b94d-4d58a5e47c62",
   "metadata": {},
   "outputs": [],
   "source": []
  },
  {
   "cell_type": "code",
   "execution_count": null,
   "id": "c9b0523a-50dc-4dad-b6e6-2d24abb9ec11",
   "metadata": {},
   "outputs": [],
   "source": []
  },
  {
   "cell_type": "code",
   "execution_count": null,
   "id": "f111f67c-8489-4804-bf83-3fe705591a87",
   "metadata": {},
   "outputs": [],
   "source": []
  },
  {
   "cell_type": "code",
   "execution_count": null,
   "id": "1805c0c2-09c9-428b-83bb-7ad352dde403",
   "metadata": {},
   "outputs": [],
   "source": [
    "grdLCC.grid"
   ]
  },
  {
   "cell_type": "code",
   "execution_count": null,
   "id": "12dfe5de-7b9f-4b92-94eb-c2635102117e",
   "metadata": {},
   "outputs": [],
   "source": [
    "grdLCC.grid.x"
   ]
  },
  {
   "cell_type": "code",
   "execution_count": null,
   "id": "03308b3b-7383-4e71-a285-a4fb17ac0c0a",
   "metadata": {},
   "outputs": [],
   "source": [
    "grdLCC.grid.y"
   ]
  },
  {
   "cell_type": "code",
   "execution_count": null,
   "id": "f6ec75da-75c2-4cdc-9b3e-f1e8a3031c40",
   "metadata": {},
   "outputs": [],
   "source": [
    "grdLCC.grid.dx"
   ]
  },
  {
   "cell_type": "code",
   "execution_count": null,
   "id": "c141c494-a45a-4554-8eaf-991565b968d0",
   "metadata": {},
   "outputs": [],
   "source": [
    "grdLCC.grid.dy"
   ]
  },
  {
   "cell_type": "code",
   "execution_count": null,
   "id": "2fcafff1-09e7-44af-b8a0-aca1ae57a5db",
   "metadata": {},
   "outputs": [],
   "source": []
  }
 ],
 "metadata": {
  "kernelspec": {
   "display_name": "Python 3",
   "language": "python",
   "name": "python3"
  },
  "language_info": {
   "codemirror_mode": {
    "name": "ipython",
    "version": 3
   },
   "file_extension": ".py",
   "mimetype": "text/x-python",
   "name": "python",
   "nbconvert_exporter": "python",
   "pygments_lexer": "ipython3",
   "version": "3.7.10"
  }
 },
 "nbformat": 4,
 "nbformat_minor": 5
}
