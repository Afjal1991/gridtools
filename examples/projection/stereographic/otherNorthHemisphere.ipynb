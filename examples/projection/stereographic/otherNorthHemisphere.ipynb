{
 "cells": [
  {
   "cell_type": "code",
   "execution_count": null,
   "id": "fec2bf13-8861-46d8-8507-c4605f77ba90",
   "metadata": {},
   "outputs": [],
   "source": [
    "# conda: gridTools\n",
    "import os\n",
    "from gridtools.gridutils import GridUtils\n",
    "%matplotlib inline"
   ]
  },
  {
   "cell_type": "code",
   "execution_count": null,
   "id": "58803eba-7c47-43d8-aa49-051968abdd17",
   "metadata": {},
   "outputs": [],
   "source": [
    "# Define a place to write example files\n",
    "wrkDir = '/import/AKWATERS/jrcermakiii/configs/projection/stereographic'\n",
    "inputDir = os.path.join(wrkDir, \"INPUT\")\n",
    "plotDir = os.path.join(wrkDir,\"PLOTS\")"
   ]
  },
  {
   "cell_type": "code",
   "execution_count": null,
   "id": "69010a73-02a8-42bd-851a-e438312cf68e",
   "metadata": {
    "tags": []
   },
   "outputs": [],
   "source": [
    "# Instantiate a grid tools library object\n",
    "# Adjust message levels from the library\n",
    "grd = GridUtils()\n",
    "grd.setVerboseLevel('INFO')\n",
    "grd.setDebugLevel(2)"
   ]
  },
  {
   "cell_type": "code",
   "execution_count": null,
   "id": "75298636-2108-4e92-8aa9-e65090751843",
   "metadata": {},
   "outputs": [],
   "source": [
    "# NORTHERN HEMISPHERE"
   ]
  },
  {
   "cell_type": "code",
   "execution_count": null,
   "id": "5ce33d7d-684a-4226-adb9-68dac22c4cae",
   "metadata": {},
   "outputs": [],
   "source": [
    "# More complex projection parameters"
   ]
  },
  {
   "cell_type": "code",
   "execution_count": null,
   "id": "7d5fd088-7b43-43ee-9cea-51a2044a73d9",
   "metadata": {},
   "outputs": [],
   "source": [
    "# Zoom in on the USA, using a projection of lon_0=270.0000\n",
    "grd.clearGrid()\n",
    "# Specify the grid parameters\n",
    "grd.setGridParameters({\n",
    "    'projection': {\n",
    "        'name': 'Stereographic',\n",
    "        'lon_0': 270.0,\n",
    "        'lat_0': 90.0,\n",
    "        'ellps': 'WGS84'\n",
    "    },\n",
    "    'centerX': 270.0,\n",
    "    'centerY': 45.0,\n",
    "    'centerUnits': 'degrees',\n",
    "    'dx': 6000000.0,\n",
    "    'dxUnits': 'meters',\n",
    "    'dy': 6000000.0,\n",
    "    'dyUnits': 'meters',\n",
    "    'tilt': 0.0,\n",
    "    'gridResolution': 1000000.0,\n",
    "    'gridMode': 2,\n",
    "    'gridResolutionUnits': 'meters',\n",
    "    'gridType': 'MOM6',\n",
    "    'ensureEvenI': True,\n",
    "    'ensureEvenJ': True    \n",
    "})\n",
    "grd.makeGrid()\n",
    "# Show the new grid\n",
    "grd.setPlotParameters(\n",
    "    {\n",
    "        'figsize': (8,6),\n",
    "        'projection': {\n",
    "            'name': 'Stereographic',    \n",
    "            'lon_0': 270.0,\n",
    "            'lat_0': 90,\n",
    "            'ellps': 'WGS84'\n",
    "        },\n",
    "        'extent': [-140, -40, 20, 90],\n",
    "        'iLinewidth': 1.0,\n",
    "        'jLinewidth': 1.0,\n",
    "        'showGridCells': True,\n",
    "        'title': 'Stereographic 6x6: Center=45N/270E(-90W) lon_0=270.0',\n",
    "        'iColor': 'y',\n",
    "        'jColor': 'k'\n",
    "    }\n",
    ")\n",
    "(figure, axes) = grd.plotGrid()\n",
    "display(figure)\n",
    "figure.savefig(os.path.join(plotDir, '6x6_nh_45n_270e_270lon0.png'), dpi=None, facecolor='w', edgecolor='w',\n",
    "               orientation='landscape', transparent=False, bbox_inches=None, pad_inches=0.1)"
   ]
  },
  {
   "cell_type": "code",
   "execution_count": null,
   "id": "e6190a55-d70f-42f2-b88e-a4468efae74a",
   "metadata": {},
   "outputs": [],
   "source": []
  }
 ],
 "metadata": {
  "kernelspec": {
   "display_name": "Python 3",
   "language": "python",
   "name": "python3"
  },
  "language_info": {
   "codemirror_mode": {
    "name": "ipython",
    "version": 3
   },
   "file_extension": ".py",
   "mimetype": "text/x-python",
   "name": "python",
   "nbconvert_exporter": "python",
   "pygments_lexer": "ipython3",
   "version": "3.7.10"
  }
 },
 "nbformat": 4,
 "nbformat_minor": 5
}
