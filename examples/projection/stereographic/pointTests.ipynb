{
 "cells": [
  {
   "cell_type": "code",
   "execution_count": null,
   "id": "fec2bf13-8861-46d8-8507-c4605f77ba90",
   "metadata": {},
   "outputs": [],
   "source": [
    "# conda: gridTools\n",
    "import os\n",
    "from gridtools.gridutils import GridUtils\n",
    "from pyproj import CRS, Transformer\n",
    "%matplotlib inline"
   ]
  },
  {
   "cell_type": "code",
   "execution_count": null,
   "id": "58803eba-7c47-43d8-aa49-051968abdd17",
   "metadata": {},
   "outputs": [],
   "source": [
    "# Define a place to write example files\n",
    "wrkDir = '/import/AKWATERS/jrcermakiii/configs/projection/stereographic'\n",
    "inputDir = os.path.join(wrkDir, \"INPUT\")\n",
    "plotDir = os.path.join(wrkDir,\"PLOTS\")"
   ]
  },
  {
   "cell_type": "code",
   "execution_count": null,
   "id": "69010a73-02a8-42bd-851a-e438312cf68e",
   "metadata": {},
   "outputs": [],
   "source": [
    "# Instantiate a grid tools library object\n",
    "# Adjust message levels from the library\n",
    "grd = GridUtils()\n",
    "grd.setVerboseLevel('INFO')\n",
    "grd.setDebugLevel(2)"
   ]
  },
  {
   "cell_type": "code",
   "execution_count": null,
   "id": "4d87dcab-9824-4a19-9c72-061a0730534c",
   "metadata": {},
   "outputs": [],
   "source": [
    "# Simple coordinate tests\n",
    "PROJSTRING = \"+proj=stere +lat_0=90.000000 +ellps=WGS84\"\n",
    "# create the coordinate reference system\n",
    "crs = CRS.from_proj4(PROJSTRING)\n",
    "\n",
    "# create the projection from lon/lat to x/y\n",
    "prj = Transformer.from_crs(crs.geodetic_crs, crs)"
   ]
  },
  {
   "cell_type": "code",
   "execution_count": null,
   "id": "75298636-2108-4e92-8aa9-e65090751843",
   "metadata": {},
   "outputs": [],
   "source": [
    "# NORTHERN HEMISPHERE"
   ]
  },
  {
   "cell_type": "code",
   "execution_count": null,
   "id": "a8820e10-9a3c-4ccc-af5b-cc1f39921032",
   "metadata": {},
   "outputs": [],
   "source": [
    "# All the pole points should end up back at the pole (90.0 N)\n",
    "# When transformed back, the actual location of longitude is lost.\n",
    "# Lon, Lat / X(east), Y(north)\n",
    "locations = [(0.0, 90.0), (90.0, 90.0), (180.0, 90.0), (270.0, 90.0)]\n",
    "\n",
    "for loc in locations:\n",
    "    (lon, lat) = loc\n",
    "    # Transform to X, Y\n",
    "    east, north = prj.transform(lon, lat)\n",
    "    # Back to Lon, Lat\n",
    "    lon2, lat2 = prj.transform(east, north, direction='INVERSE')\n",
    "    # Show result\n",
    "    print(\"(lon=%s, lat=%s) -> (east=%s, north=%s) -> (lon=%s, lat=%s)\" %\n",
    "          (lon, lat, east, north, lon2, lat2))"
   ]
  },
  {
   "cell_type": "code",
   "execution_count": null,
   "id": "a8bcbe09-0b50-41a5-9597-9b7727503135",
   "metadata": {},
   "outputs": [],
   "source": [
    "# Testing all the quadrants at 45.0 N\n",
    "# Lon, Lat / X(east), Y(north)\n",
    "locations = [(0.0, 45.0), (90.0, 45.0), (180.0, 45.0), (270.0, 45.0)]\n",
    "# locations = [(0.0, 45.0), (90.0, 45.0), (180.0, 45.0), (-90.0, 45.0)]\n",
    "\n",
    "for loc in locations:\n",
    "    (lon, lat) = loc\n",
    "    # Transform to X, Y\n",
    "    east, north = prj.transform(lon, lat)\n",
    "    # Back to Lon, Lat\n",
    "    lon2, lat2 = prj.transform(east, north, direction='INVERSE')\n",
    "    # Show result\n",
    "    print(\"(lon=%s, lat=%s) -> (east=%s, north=%s) -> (lon=%s, lat=%s)\" %\n",
    "          (lon, lat, east, north, lon2, lat2))"
   ]
  },
  {
   "cell_type": "code",
   "execution_count": null,
   "id": "1d590adf-7734-4cfa-bfa9-18f703a2a7e8",
   "metadata": {},
   "outputs": [],
   "source": [
    "# SOUTHERN HEMISPHERE"
   ]
  },
  {
   "cell_type": "code",
   "execution_count": null,
   "id": "d52e00c8-0185-4d2a-b0dc-3903803aca06",
   "metadata": {},
   "outputs": [],
   "source": [
    "# All the pole points should end up back at the pole (90.0 S)\n",
    "# When transformed back, the actual location of longitude is lost.\n",
    "# Lon, Lat / X(east), Y(north)\n",
    "locations = [(0.0, -90.0), (90.0, -90.0), (180.0, -90.0), (270.0, -90.0)]\n",
    "\n",
    "for loc in locations:\n",
    "    (lon, lat) = loc\n",
    "    # Transform to X, Y\n",
    "    east, north = prj.transform(lon, lat)\n",
    "    # Back to Lon, Lat\n",
    "    lon2, lat2 = prj.transform(east, north, direction='INVERSE')\n",
    "    # Show result\n",
    "    print(\"(lon=%s, lat=%s) -> (east=%s, north=%s) -> (lon=%s, lat=%s)\" %\n",
    "          (lon, lat, east, north, lon2, lat2))"
   ]
  },
  {
   "cell_type": "code",
   "execution_count": null,
   "id": "1472353e-de25-41bd-a15e-17bc55aecd96",
   "metadata": {},
   "outputs": [],
   "source": [
    "# Testing all the quadrants at 45.0 S\n",
    "# Lon, Lat / X(east), Y(north)\n",
    "locations = [(0.0, -45.0), (90.0, -45.0), (180.0, -45.0), (270.0, -45.0)]\n",
    "# locations = [(0.0, -45.0), (90.0, -45.0), (180.0, -45.0), (-90.0, -45.0)]\n",
    "\n",
    "for loc in locations:\n",
    "    (lon, lat) = loc\n",
    "    # Transform to X, Y\n",
    "    east, north = prj.transform(lon, lat)\n",
    "    # Back to Lon, Lat\n",
    "    lon2, lat2 = prj.transform(east, north, direction='INVERSE')\n",
    "    # Show result\n",
    "    print(\"(lon=%s, lat=%s) -> (east=%s, north=%s) -> (lon=%s, lat=%s)\" %\n",
    "          (lon, lat, east, north, lon2, lat2))"
   ]
  }
 ],
 "metadata": {
  "kernelspec": {
   "display_name": "Python 3",
   "language": "python",
   "name": "python3"
  },
  "language_info": {
   "codemirror_mode": {
    "name": "ipython",
    "version": 3
   },
   "file_extension": ".py",
   "mimetype": "text/x-python",
   "name": "python",
   "nbconvert_exporter": "python",
   "pygments_lexer": "ipython3",
   "version": "3.7.10"
  }
 },
 "nbformat": 4,
 "nbformat_minor": 5
}
