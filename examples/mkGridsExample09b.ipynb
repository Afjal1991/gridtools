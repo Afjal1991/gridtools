{
 "cells": [
  {
   "cell_type": "code",
   "execution_count": null,
   "id": "0ab9b8cd-f858-4352-aa69-3e98a09451e3",
   "metadata": {},
   "outputs": [],
   "source": [
    "# This example allows editing of the 20x30 sample grid off the\n",
    "# coast of California\n",
    "\n",
    "import os, sys\n",
    "from gridtools.gridutils import GridUtils\n",
    "from gridtools.grids import roms\n",
    "from gridtools.app import maskEditor\n",
    "\n",
    "import cartopy.crs as ccrs\n",
    "import xarray as xr\n",
    "\n",
    "\n",
    "\n",
    "# Set a place to write files\n",
    "wrkDir = '/import/AKWATERS/jrcermakiii/configs/zOutput'\n",
    "inputDir = os.path.join(wrkDir, 'INPUT')\n",
    "\n",
    "grd = GridUtils()"
   ]
  },
  {
   "cell_type": "code",
   "execution_count": null,
   "id": "795d6457-3465-421d-8e31-e0709f0c75f3",
   "metadata": {},
   "outputs": [],
   "source": [
    "# Open a MOM6 grid\n",
    "grd.openGrid(os.path.join(wrkDir, \"LCC_20x30_Example7.nc\"), gridType='MOM6')\n",
    "grd.readGrid()\n",
    "\n",
    "# Read the ocean mask\n",
    "oceanMask = grd.openDataset(os.path.join(wrkDir, 'ocean_mask_Example7.nc'))"
   ]
  },
  {
   "cell_type": "code",
   "execution_count": null,
   "id": "9408d82c-eef1-4c30-b78c-ea2c81c6aa0c",
   "metadata": {},
   "outputs": [],
   "source": [
    "# MOM6 places lon and lat in x and y\n",
    "# x and y need to be lon and lat coordinates for the mask editor\n",
    "oceanMask = oceanMask.rename({\n",
    "    'x': 'lon',\n",
    "    'y': 'lat'\n",
    "})\n",
    "oceanMask = oceanMask.set_coords(['lon', 'lat'])"
   ]
  },
  {
   "cell_type": "code",
   "execution_count": null,
   "id": "e2438c73-f6a9-4a8e-a8a6-edb705009c6f",
   "metadata": {},
   "outputs": [],
   "source": [
    "# Set a map projection\n",
    "crs = ccrs.Orthographic(-140, 45)\n",
    "#crs = ccrs.NorthPolarStereo(central_longitude=-160.0)\n",
    "\n",
    "# Create the mask editor\n",
    "appObj = maskEditor(crs=crs, ds=oceanMask['mask'])\n",
    "app = appObj.createMaskEditorApp()"
   ]
  },
  {
   "cell_type": "code",
   "execution_count": null,
   "id": "2d3f9024-594e-4704-8e13-b29f373cb3a9",
   "metadata": {},
   "outputs": [],
   "source": [
    "# Start the mask editor\n",
    "app"
   ]
  },
  {
   "cell_type": "code",
   "execution_count": null,
   "id": "f523616c-9929-4294-8812-d9c47dfdcc62",
   "metadata": {},
   "outputs": [],
   "source": [
    "# OPTIONAL: This will display the oceanMask as stored in the xarray\n",
    "#[\"%s\" % (oceanMask['mask'][q,:].values) for q in range(0,oceanMask['mask'].shape[0])]"
   ]
  },
  {
   "cell_type": "code",
   "execution_count": null,
   "id": "63311d09-a86f-4931-8d7e-eca92bfc9c8e",
   "metadata": {},
   "outputs": [],
   "source": [
    "# When done editing, set the next variable runBlock to True to see what the updated\n",
    "# ocean mask does to the ocean topography.  This will also construct new FMS coupler\n",
    "# and mosaic files.  These are placed into INPUT2 for comparison to INPUT."
   ]
  },
  {
   "cell_type": "code",
   "execution_count": null,
   "id": "a2bede66-5125-4d5a-bd97-064b8889de12",
   "metadata": {},
   "outputs": [],
   "source": [
    "runBlock = False\n",
    "\n",
    "if runBlock:\n",
    "    # Save the new mask without coordinates\n",
    "    newMask = oceanMask['mask'].copy()\n",
    "    newMask = newMask.reset_coords(names = ['lat', 'lon'])\n",
    "    grd.saveDataset(os.path.join(wrkDir, 'ocean_mask_new_Example7.nc'), newMask, \n",
    "                    overwrite=True, mapVariables = {'lon': 'x', 'lat': 'y'}, \n",
    "                    hashVariables = ['mask', 'x', 'y'])\n",
    "    \n",
    "    bathyGridFilename = os.path.join(wrkDir, 'ocean_topog_Example7.nc')\n",
    "    bathyGrids = xr.open_dataset(bathyGridFilename)\n",
    "\n",
    "    bathyGrids['newDepth2'] = grd.applyExistingOceanmask(bathyGrids, 'newDepth',\n",
    "            os.path.join(wrkDir, 'ocean_mask_new_Example7.nc'), 'mask',\n",
    "            MASKING_DEPTH=0.0, MINIMUM_DEPTH=1000.0, MAXIMUM_DEPTH=-99999.0)\n",
    "    \n",
    "    # Write out FMS related support files\n",
    "    inputDir = os.path.join(wrkDir, 'INPUT2')\n",
    "    grd.makeSoloMosaic(\n",
    "        topographyGrid=bathyGrids['newDepth2'],\n",
    "        writeLandmask=True,\n",
    "        writeOceanmask=True,\n",
    "        inputDirectory=inputDir,\n",
    "        overwrite=True,\n",
    "        MASKING_DEPTH=0.0, MINIMUM_DEPTH=1000.0, MAXIMUM_DEPTH=-99999.0,\n",
    "    )\n",
    "    grd.saveGrid(filename=os.path.join(inputDir, \"ocean_hgrid.nc\"))"
   ]
  }
 ],
 "metadata": {
  "kernelspec": {
   "display_name": "Python 3",
   "language": "python",
   "name": "python3"
  },
  "language_info": {
   "codemirror_mode": {
    "name": "ipython",
    "version": 3
   },
   "file_extension": ".py",
   "mimetype": "text/x-python",
   "name": "python",
   "nbconvert_exporter": "python",
   "pygments_lexer": "ipython3",
   "version": "3.8.10"
  }
 },
 "nbformat": 4,
 "nbformat_minor": 5
}
