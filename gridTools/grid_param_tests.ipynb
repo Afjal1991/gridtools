{
 "cells": [
  {
   "cell_type": "code",
   "execution_count": 3,
   "metadata": {},
   "outputs": [
    {
     "name": "stdout",
     "output_type": "stream",
     "text": [
      "At this point, we have initialized a GridUtils() object.\n",
      "\n",
      "Set print and logging messages to the DEBUG level.\n",
      "New DEBUG level (0)\n",
      "Logfile (configs/test/LCC_20x30.log) does not exist.\n",
      "Failed to open logfile (configs/test/LCC_20x30.log)\n",
      "Initial grid parameters are set:\n",
      "Current grid parameters:\n",
      "          projection: {'name': 'LambertConformalConic', 'lon_0': 230.0, 'lat_0': 40.0}\n",
      "             centerX: 230.0\n",
      "             centerY: 40.0\n",
      "         centerUnits: degrees\n",
      "                  dx: 20.0\n",
      "             dxUnits: degrees\n",
      "                  dy: 30.0\n",
      "             dyUnits: degrees\n",
      "                tilt: 30.0\n",
      "      gridResolution: 1.0\n",
      "            gridMode: 2\n",
      "            gridType: MOM6\n",
      "         ensureEvenI: True\n",
      "         ensureEvenJ: True\n"
     ]
    }
   ],
   "source": [
    "#!/bin/env python3\n",
    "\n",
    "# conda: xesmfTools\n",
    "\n",
    "# Grid toolset demonstration in\n",
    "#  * Command line script form\n",
    "#  * ipython\n",
    "\n",
    "import sys, os, logging\n",
    "\n",
    "#if (os.environ.get('LIBROOT')):\n",
    "#    sys.path.append(os.environ.get('LIBROOT'))\n",
    "sys.path.append('lib')\n",
    "\n",
    "#from sysinfo import SysInfo\n",
    "#info = SysInfo()\n",
    "#info.show(vList=['platform','python','esmf','esmpy','xgcm','xesmf',\n",
    "#                 'netcdf4','numpy','xarray',\n",
    "#                 'cartopy','matplotlib',\n",
    "#                 'jupyter_core','jupyterlab','notebook',\n",
    "#                 'dask'])\n",
    "\n",
    "from gridutils import GridUtils\n",
    "\n",
    "# Initialize a grid object\n",
    "grd = GridUtils()\n",
    "grd.printMsg(\"At this point, we have initialized a GridUtils() object.\")\n",
    "grd.printMsg(\"\")\n",
    "\n",
    "# We can turn on extra output from the module\n",
    "grd.printMsg(\"Set print and logging messages to the DEBUG level.\")\n",
    "logFilename = 'configs/test/LCC_20x30.log'\n",
    "grd.setVerboseLevel(logging.DEBUG)\n",
    "grd.setDebugLevel(0)\n",
    "grd.setLogLevel(logging.DEBUG)\n",
    "grd.deleteLogfile(logFilename)\n",
    "grd.enableLogging(logFilename)\n",
    "\n",
    "# Make sure we erase any previous grid, grid parameters and plot parameters.\n",
    "grd.clearGrid()\n",
    "\n",
    "# Specify the grid parameters\n",
    "# gridMode should be 2.0 for supergrid\n",
    "# Normally 30.0; 0.0 for debugging\n",
    "gtilt = 30.0\n",
    "grd.printMsg(\"Initial grid parameters are set:\")\n",
    "grd.setGridParameters({\n",
    "    'projection': {\n",
    "        'name': 'LambertConformalConic',\n",
    "        'lon_0': 230.0,\n",
    "        'lat_0': 40.0\n",
    "    },\n",
    "    'centerX': 230.0,\n",
    "    'centerY': 40.0,\n",
    "    'centerUnits': 'degrees',\n",
    "    'dx': 20.0,\n",
    "    'dxUnits': 'degrees',\n",
    "    'dy': 30.0,\n",
    "    'dyUnits': 'degrees',\n",
    "    'tilt': gtilt,\n",
    "    'gridResolution': 1.0,\n",
    "    'gridMode': 2,\n",
    "    'gridType': 'MOM6',\n",
    "    'ensureEvenI': True,\n",
    "    'ensureEvenJ': True\n",
    "})\n",
    "grd.showGridParameters()\n"
   ]
  },
  {
   "cell_type": "code",
   "execution_count": 4,
   "metadata": {},
   "outputs": [
    {
     "data": {
      "text/plain": [
       "'/Users/james/opt/anaconda3/envs/holo37'"
      ]
     },
     "execution_count": 4,
     "metadata": {},
     "output_type": "execute_result"
    }
   ],
   "source": [
    "os.environ['CONDA_PREFIX']"
   ]
  },
  {
   "cell_type": "code",
   "execution_count": 5,
   "metadata": {},
   "outputs": [],
   "source": [
    "import subprocess\n",
    "label = subprocess.check_output([\"git\", \"describe\"]).strip()"
   ]
  },
  {
   "cell_type": "code",
   "execution_count": 6,
   "metadata": {},
   "outputs": [
    {
     "data": {
      "text/plain": [
       "b'0.1-1-ge58d649'"
      ]
     },
     "execution_count": 6,
     "metadata": {},
     "output_type": "execute_result"
    }
   ],
   "source": [
    "label"
   ]
  },
  {
   "cell_type": "code",
   "execution_count": 10,
   "metadata": {},
   "outputs": [
    {
     "ename": "KeyError",
     "evalue": "'name'",
     "output_type": "error",
     "traceback": [
      "\u001b[0;31m---------------------------------------------------------------------------\u001b[0m",
      "\u001b[0;31mKeyError\u001b[0m                                  Traceback (most recent call last)",
      "\u001b[0;32m<ipython-input-10-165d58575a14>\u001b[0m in \u001b[0;36m<module>\u001b[0;34m\u001b[0m\n\u001b[1;32m      2\u001b[0m \u001b[0;34m\u001b[0m\u001b[0m\n\u001b[1;32m      3\u001b[0m \u001b[0mresponse\u001b[0m \u001b[0;34m=\u001b[0m \u001b[0mrequests\u001b[0m\u001b[0;34m.\u001b[0m\u001b[0mget\u001b[0m\u001b[0;34m(\u001b[0m\u001b[0;34m\"https://api.github.com/ESMG/gridtools/releases/latest\"\u001b[0m\u001b[0;34m)\u001b[0m\u001b[0;34m\u001b[0m\u001b[0;34m\u001b[0m\u001b[0m\n\u001b[0;32m----> 4\u001b[0;31m \u001b[0mprint\u001b[0m\u001b[0;34m(\u001b[0m\u001b[0mresponse\u001b[0m\u001b[0;34m.\u001b[0m\u001b[0mjson\u001b[0m\u001b[0;34m(\u001b[0m\u001b[0;34m)\u001b[0m\u001b[0;34m[\u001b[0m\u001b[0;34m\"name\"\u001b[0m\u001b[0;34m]\u001b[0m\u001b[0;34m)\u001b[0m\u001b[0;34m\u001b[0m\u001b[0;34m\u001b[0m\u001b[0m\n\u001b[0m",
      "\u001b[0;31mKeyError\u001b[0m: 'name'"
     ]
    }
   ],
   "source": [
    "import requests\n",
    "\n",
    "response = requests.get(\"https://api.github.com/ESMG/gridtools/releases/latest\")\n",
    "print(response.json()[\"name\"])"
   ]
  },
  {
   "cell_type": "code",
   "execution_count": null,
   "metadata": {},
   "outputs": [],
   "source": [
    "https://github.com/ESMG/gridtools/releases"
   ]
  },
  {
   "cell_type": "code",
   "execution_count": 15,
   "metadata": {},
   "outputs": [
    {
     "data": {
      "text/plain": [
       "0"
      ]
     },
     "execution_count": 15,
     "metadata": {},
     "output_type": "execute_result"
    }
   ],
   "source": [
    "import os\n",
    "os.system(\"conda list --explicit > package_versions.txt\")"
   ]
  },
  {
   "cell_type": "code",
   "execution_count": 14,
   "metadata": {},
   "outputs": [
    {
     "data": {
      "text/plain": [
       "0"
      ]
     },
     "execution_count": 14,
     "metadata": {},
     "output_type": "execute_result"
    }
   ],
   "source": [
    "os.system(\"cd conda_info/ && conda list --explicit > package_versions2.txt\")"
   ]
  },
  {
   "cell_type": "code",
   "execution_count": null,
   "metadata": {},
   "outputs": [],
   "source": []
  }
 ],
 "metadata": {
  "kernelspec": {
   "display_name": "Python 3",
   "language": "python",
   "name": "python3"
  },
  "language_info": {
   "codemirror_mode": {
    "name": "ipython",
    "version": 3
   },
   "file_extension": ".py",
   "mimetype": "text/x-python",
   "name": "python",
   "nbconvert_exporter": "python",
   "pygments_lexer": "ipython3",
   "version": "3.7.7"
  }
 },
 "nbformat": 4,
 "nbformat_minor": 4
}
