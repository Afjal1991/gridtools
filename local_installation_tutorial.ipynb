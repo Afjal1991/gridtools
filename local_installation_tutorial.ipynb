{
 "cells": [
  {
   "cell_type": "markdown",
   "id": "057d7a48-3fd3-4453-ae9d-c1f874075903",
   "metadata": {},
   "source": [
    "# <center>ESMG Gridtools Installation Tutorial</center>\n"
   ]
  },
  {
   "cell_type": "markdown",
   "id": "ab99dc17-6de3-4c11-a850-0f43485ae7ed",
   "metadata": {},
   "source": [
    "\n",
    "<div>\n",
    "    <center><img src=\"docs/images/gridApp.png\" width=\"700\" height=\"500\"></center>\n",
    "</div>\n",
    "\n",
    "**<center>In this tutorial, we show how to install the ESMG Gridtool from Github and run the application on a local machine. </center>**\n",
    "<br>\n",
    "\n",
    "**Prerequisites:**\n",
    "1) Anaconda\n",
    "2) Git\n",
    "3) Github Account\n",
    "\n",
    "We will use Anaconda to manage our Python environments and install the packages required for use. If you don't have Anaconda installed on your machine,\n",
    "please go to [Anaconda's Download Site](https://www.anaconda.com/products/individual) (it's free, open-source software) and install Anaconda for your machine. In addition to Anaconda, [Github tools](https://git-scm.com/download/) must also be installed on your local machine. Lastly, a Github Account is highly recommended."
   ]
  },
  {
   "cell_type": "markdown",
   "id": "a8a64be6-5c07-4684-be28-edfa5216f1e1",
   "metadata": {},
   "source": []
  },
  {
   "cell_type": "markdown",
   "id": "922e57e9-c00f-49b4-b840-9090dc01f9a5",
   "metadata": {},
   "source": [
    "# 1. Clone the ESMG/gridtools Repository\n",
    "\n",
    "<div>\n",
    "    <center><img src=\"docs/images/clone_esmg.png\" width=\"700\" height=\"700\"></center>\n",
    "</div>\n",
    "\n",
    "<br>\n",
    "<br>\n",
    "\n",
    "1.1\\. Identify and/or create directory on your machine for the ESMG/gridtools repository clone \\\n",
    "1.2\\. Navigate to the [ESMG/gridtools](https://github.com/ESMG/gridtools) Github Repository \\\n",
    "1.3\\. Click the green **Code** button and highlight the HTTPS URL (https://github.com/ESMG/gridtools.git) \\\n",
    "1.4\\. Open Terminal (or Command Prompt for Windows Users), navigate to desired installation directory \\\n",
    "1.5\\. Run Git Clone \n",
    "  - `git clone https://github.com/ESMG/gridtools.git`"
   ]
  },
  {
   "cell_type": "markdown",
   "id": "862cc7e8-ca05-4862-9d29-d73aeb772742",
   "metadata": {},
   "source": [
    "# 2. Create Anaconda Environment"
   ]
  },
  {
   "cell_type": "markdown",
   "id": "b7892dc9-1859-4240-abe9-d82d7c4d06ab",
   "metadata": {},
   "source": [
    "# 3. Export Gridtools Library"
   ]
  },
  {
   "cell_type": "markdown",
   "id": "289e267e-a816-4f7e-8994-40ba55f7a0bd",
   "metadata": {},
   "source": [
    "# 4. Open Application"
   ]
  },
  {
   "cell_type": "code",
   "execution_count": null,
   "id": "aa05ecad-bb30-40a3-9660-3659f4232894",
   "metadata": {},
   "outputs": [],
   "source": []
  }
 ],
 "metadata": {
  "kernelspec": {
   "display_name": "Python 3",
   "language": "python",
   "name": "python3"
  },
  "language_info": {
   "codemirror_mode": {
    "name": "ipython",
    "version": 3
   },
   "file_extension": ".py",
   "mimetype": "text/x-python",
   "name": "python",
   "nbconvert_exporter": "python",
   "pygments_lexer": "ipython3",
   "version": "3.9.4"
  }
 },
 "nbformat": 4,
 "nbformat_minor": 5
}
